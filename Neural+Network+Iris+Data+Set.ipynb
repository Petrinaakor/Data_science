{
 "cells": [
  {
   "cell_type": "markdown",
   "metadata": {},
   "source": [
    "# Neural Network on Iris Dataset"
   ]
  },
  {
   "cell_type": "markdown",
   "metadata": {},
   "source": [
    "# Import Libraries"
   ]
  },
  {
   "cell_type": "code",
   "execution_count": 18,
   "metadata": {
    "collapsed": true
   },
   "outputs": [],
   "source": [
    "import numpy as np\n",
    "from matplotlib import pyplot as plt\n",
    "from sklearn import datasets\n",
    "%matplotlib inline"
   ]
  },
  {
   "cell_type": "markdown",
   "metadata": {},
   "source": [
    "# Load Iris Data Set"
   ]
  },
  {
   "cell_type": "code",
   "execution_count": 3,
   "metadata": {
    "collapsed": true
   },
   "outputs": [],
   "source": [
    "iris = datasets.load_iris()\n",
    "X = iris.data\n",
    "y = np.atleast_2d(iris.target).T"
   ]
  },
  {
   "cell_type": "code",
   "execution_count": 5,
   "metadata": {},
   "outputs": [
    {
     "data": {
      "text/plain": [
       "array([[ 5.1,  3.5,  1.4,  0.2],\n",
       "       [ 4.9,  3. ,  1.4,  0.2],\n",
       "       [ 4.7,  3.2,  1.3,  0.2],\n",
       "       [ 4.6,  3.1,  1.5,  0.2],\n",
       "       [ 5. ,  3.6,  1.4,  0.2],\n",
       "       [ 5.4,  3.9,  1.7,  0.4],\n",
       "       [ 4.6,  3.4,  1.4,  0.3],\n",
       "       [ 5. ,  3.4,  1.5,  0.2],\n",
       "       [ 4.4,  2.9,  1.4,  0.2],\n",
       "       [ 4.9,  3.1,  1.5,  0.1],\n",
       "       [ 5.4,  3.7,  1.5,  0.2],\n",
       "       [ 4.8,  3.4,  1.6,  0.2],\n",
       "       [ 4.8,  3. ,  1.4,  0.1],\n",
       "       [ 4.3,  3. ,  1.1,  0.1],\n",
       "       [ 5.8,  4. ,  1.2,  0.2],\n",
       "       [ 5.7,  4.4,  1.5,  0.4],\n",
       "       [ 5.4,  3.9,  1.3,  0.4],\n",
       "       [ 5.1,  3.5,  1.4,  0.3],\n",
       "       [ 5.7,  3.8,  1.7,  0.3],\n",
       "       [ 5.1,  3.8,  1.5,  0.3],\n",
       "       [ 5.4,  3.4,  1.7,  0.2],\n",
       "       [ 5.1,  3.7,  1.5,  0.4],\n",
       "       [ 4.6,  3.6,  1. ,  0.2],\n",
       "       [ 5.1,  3.3,  1.7,  0.5],\n",
       "       [ 4.8,  3.4,  1.9,  0.2],\n",
       "       [ 5. ,  3. ,  1.6,  0.2],\n",
       "       [ 5. ,  3.4,  1.6,  0.4],\n",
       "       [ 5.2,  3.5,  1.5,  0.2],\n",
       "       [ 5.2,  3.4,  1.4,  0.2],\n",
       "       [ 4.7,  3.2,  1.6,  0.2],\n",
       "       [ 4.8,  3.1,  1.6,  0.2],\n",
       "       [ 5.4,  3.4,  1.5,  0.4],\n",
       "       [ 5.2,  4.1,  1.5,  0.1],\n",
       "       [ 5.5,  4.2,  1.4,  0.2],\n",
       "       [ 4.9,  3.1,  1.5,  0.1],\n",
       "       [ 5. ,  3.2,  1.2,  0.2],\n",
       "       [ 5.5,  3.5,  1.3,  0.2],\n",
       "       [ 4.9,  3.1,  1.5,  0.1],\n",
       "       [ 4.4,  3. ,  1.3,  0.2],\n",
       "       [ 5.1,  3.4,  1.5,  0.2],\n",
       "       [ 5. ,  3.5,  1.3,  0.3],\n",
       "       [ 4.5,  2.3,  1.3,  0.3],\n",
       "       [ 4.4,  3.2,  1.3,  0.2],\n",
       "       [ 5. ,  3.5,  1.6,  0.6],\n",
       "       [ 5.1,  3.8,  1.9,  0.4],\n",
       "       [ 4.8,  3. ,  1.4,  0.3],\n",
       "       [ 5.1,  3.8,  1.6,  0.2],\n",
       "       [ 4.6,  3.2,  1.4,  0.2],\n",
       "       [ 5.3,  3.7,  1.5,  0.2],\n",
       "       [ 5. ,  3.3,  1.4,  0.2],\n",
       "       [ 7. ,  3.2,  4.7,  1.4],\n",
       "       [ 6.4,  3.2,  4.5,  1.5],\n",
       "       [ 6.9,  3.1,  4.9,  1.5],\n",
       "       [ 5.5,  2.3,  4. ,  1.3],\n",
       "       [ 6.5,  2.8,  4.6,  1.5],\n",
       "       [ 5.7,  2.8,  4.5,  1.3],\n",
       "       [ 6.3,  3.3,  4.7,  1.6],\n",
       "       [ 4.9,  2.4,  3.3,  1. ],\n",
       "       [ 6.6,  2.9,  4.6,  1.3],\n",
       "       [ 5.2,  2.7,  3.9,  1.4],\n",
       "       [ 5. ,  2. ,  3.5,  1. ],\n",
       "       [ 5.9,  3. ,  4.2,  1.5],\n",
       "       [ 6. ,  2.2,  4. ,  1. ],\n",
       "       [ 6.1,  2.9,  4.7,  1.4],\n",
       "       [ 5.6,  2.9,  3.6,  1.3],\n",
       "       [ 6.7,  3.1,  4.4,  1.4],\n",
       "       [ 5.6,  3. ,  4.5,  1.5],\n",
       "       [ 5.8,  2.7,  4.1,  1. ],\n",
       "       [ 6.2,  2.2,  4.5,  1.5],\n",
       "       [ 5.6,  2.5,  3.9,  1.1],\n",
       "       [ 5.9,  3.2,  4.8,  1.8],\n",
       "       [ 6.1,  2.8,  4. ,  1.3],\n",
       "       [ 6.3,  2.5,  4.9,  1.5],\n",
       "       [ 6.1,  2.8,  4.7,  1.2],\n",
       "       [ 6.4,  2.9,  4.3,  1.3],\n",
       "       [ 6.6,  3. ,  4.4,  1.4],\n",
       "       [ 6.8,  2.8,  4.8,  1.4],\n",
       "       [ 6.7,  3. ,  5. ,  1.7],\n",
       "       [ 6. ,  2.9,  4.5,  1.5],\n",
       "       [ 5.7,  2.6,  3.5,  1. ],\n",
       "       [ 5.5,  2.4,  3.8,  1.1],\n",
       "       [ 5.5,  2.4,  3.7,  1. ],\n",
       "       [ 5.8,  2.7,  3.9,  1.2],\n",
       "       [ 6. ,  2.7,  5.1,  1.6],\n",
       "       [ 5.4,  3. ,  4.5,  1.5],\n",
       "       [ 6. ,  3.4,  4.5,  1.6],\n",
       "       [ 6.7,  3.1,  4.7,  1.5],\n",
       "       [ 6.3,  2.3,  4.4,  1.3],\n",
       "       [ 5.6,  3. ,  4.1,  1.3],\n",
       "       [ 5.5,  2.5,  4. ,  1.3],\n",
       "       [ 5.5,  2.6,  4.4,  1.2],\n",
       "       [ 6.1,  3. ,  4.6,  1.4],\n",
       "       [ 5.8,  2.6,  4. ,  1.2],\n",
       "       [ 5. ,  2.3,  3.3,  1. ],\n",
       "       [ 5.6,  2.7,  4.2,  1.3],\n",
       "       [ 5.7,  3. ,  4.2,  1.2],\n",
       "       [ 5.7,  2.9,  4.2,  1.3],\n",
       "       [ 6.2,  2.9,  4.3,  1.3],\n",
       "       [ 5.1,  2.5,  3. ,  1.1],\n",
       "       [ 5.7,  2.8,  4.1,  1.3],\n",
       "       [ 6.3,  3.3,  6. ,  2.5],\n",
       "       [ 5.8,  2.7,  5.1,  1.9],\n",
       "       [ 7.1,  3. ,  5.9,  2.1],\n",
       "       [ 6.3,  2.9,  5.6,  1.8],\n",
       "       [ 6.5,  3. ,  5.8,  2.2],\n",
       "       [ 7.6,  3. ,  6.6,  2.1],\n",
       "       [ 4.9,  2.5,  4.5,  1.7],\n",
       "       [ 7.3,  2.9,  6.3,  1.8],\n",
       "       [ 6.7,  2.5,  5.8,  1.8],\n",
       "       [ 7.2,  3.6,  6.1,  2.5],\n",
       "       [ 6.5,  3.2,  5.1,  2. ],\n",
       "       [ 6.4,  2.7,  5.3,  1.9],\n",
       "       [ 6.8,  3. ,  5.5,  2.1],\n",
       "       [ 5.7,  2.5,  5. ,  2. ],\n",
       "       [ 5.8,  2.8,  5.1,  2.4],\n",
       "       [ 6.4,  3.2,  5.3,  2.3],\n",
       "       [ 6.5,  3. ,  5.5,  1.8],\n",
       "       [ 7.7,  3.8,  6.7,  2.2],\n",
       "       [ 7.7,  2.6,  6.9,  2.3],\n",
       "       [ 6. ,  2.2,  5. ,  1.5],\n",
       "       [ 6.9,  3.2,  5.7,  2.3],\n",
       "       [ 5.6,  2.8,  4.9,  2. ],\n",
       "       [ 7.7,  2.8,  6.7,  2. ],\n",
       "       [ 6.3,  2.7,  4.9,  1.8],\n",
       "       [ 6.7,  3.3,  5.7,  2.1],\n",
       "       [ 7.2,  3.2,  6. ,  1.8],\n",
       "       [ 6.2,  2.8,  4.8,  1.8],\n",
       "       [ 6.1,  3. ,  4.9,  1.8],\n",
       "       [ 6.4,  2.8,  5.6,  2.1],\n",
       "       [ 7.2,  3. ,  5.8,  1.6],\n",
       "       [ 7.4,  2.8,  6.1,  1.9],\n",
       "       [ 7.9,  3.8,  6.4,  2. ],\n",
       "       [ 6.4,  2.8,  5.6,  2.2],\n",
       "       [ 6.3,  2.8,  5.1,  1.5],\n",
       "       [ 6.1,  2.6,  5.6,  1.4],\n",
       "       [ 7.7,  3. ,  6.1,  2.3],\n",
       "       [ 6.3,  3.4,  5.6,  2.4],\n",
       "       [ 6.4,  3.1,  5.5,  1.8],\n",
       "       [ 6. ,  3. ,  4.8,  1.8],\n",
       "       [ 6.9,  3.1,  5.4,  2.1],\n",
       "       [ 6.7,  3.1,  5.6,  2.4],\n",
       "       [ 6.9,  3.1,  5.1,  2.3],\n",
       "       [ 5.8,  2.7,  5.1,  1.9],\n",
       "       [ 6.8,  3.2,  5.9,  2.3],\n",
       "       [ 6.7,  3.3,  5.7,  2.5],\n",
       "       [ 6.7,  3. ,  5.2,  2.3],\n",
       "       [ 6.3,  2.5,  5. ,  1.9],\n",
       "       [ 6.5,  3. ,  5.2,  2. ],\n",
       "       [ 6.2,  3.4,  5.4,  2.3],\n",
       "       [ 5.9,  3. ,  5.1,  1.8]])"
      ]
     },
     "execution_count": 5,
     "metadata": {},
     "output_type": "execute_result"
    }
   ],
   "source": [
    "X\n"
   ]
  },
  {
   "cell_type": "code",
   "execution_count": 6,
   "metadata": {},
   "outputs": [
    {
     "data": {
      "text/plain": [
       "array([[0],\n",
       "       [0],\n",
       "       [0],\n",
       "       [0],\n",
       "       [0],\n",
       "       [0],\n",
       "       [0],\n",
       "       [0],\n",
       "       [0],\n",
       "       [0],\n",
       "       [0],\n",
       "       [0],\n",
       "       [0],\n",
       "       [0],\n",
       "       [0],\n",
       "       [0],\n",
       "       [0],\n",
       "       [0],\n",
       "       [0],\n",
       "       [0],\n",
       "       [0],\n",
       "       [0],\n",
       "       [0],\n",
       "       [0],\n",
       "       [0],\n",
       "       [0],\n",
       "       [0],\n",
       "       [0],\n",
       "       [0],\n",
       "       [0],\n",
       "       [0],\n",
       "       [0],\n",
       "       [0],\n",
       "       [0],\n",
       "       [0],\n",
       "       [0],\n",
       "       [0],\n",
       "       [0],\n",
       "       [0],\n",
       "       [0],\n",
       "       [0],\n",
       "       [0],\n",
       "       [0],\n",
       "       [0],\n",
       "       [0],\n",
       "       [0],\n",
       "       [0],\n",
       "       [0],\n",
       "       [0],\n",
       "       [0],\n",
       "       [1],\n",
       "       [1],\n",
       "       [1],\n",
       "       [1],\n",
       "       [1],\n",
       "       [1],\n",
       "       [1],\n",
       "       [1],\n",
       "       [1],\n",
       "       [1],\n",
       "       [1],\n",
       "       [1],\n",
       "       [1],\n",
       "       [1],\n",
       "       [1],\n",
       "       [1],\n",
       "       [1],\n",
       "       [1],\n",
       "       [1],\n",
       "       [1],\n",
       "       [1],\n",
       "       [1],\n",
       "       [1],\n",
       "       [1],\n",
       "       [1],\n",
       "       [1],\n",
       "       [1],\n",
       "       [1],\n",
       "       [1],\n",
       "       [1],\n",
       "       [1],\n",
       "       [1],\n",
       "       [1],\n",
       "       [1],\n",
       "       [1],\n",
       "       [1],\n",
       "       [1],\n",
       "       [1],\n",
       "       [1],\n",
       "       [1],\n",
       "       [1],\n",
       "       [1],\n",
       "       [1],\n",
       "       [1],\n",
       "       [1],\n",
       "       [1],\n",
       "       [1],\n",
       "       [1],\n",
       "       [1],\n",
       "       [1],\n",
       "       [2],\n",
       "       [2],\n",
       "       [2],\n",
       "       [2],\n",
       "       [2],\n",
       "       [2],\n",
       "       [2],\n",
       "       [2],\n",
       "       [2],\n",
       "       [2],\n",
       "       [2],\n",
       "       [2],\n",
       "       [2],\n",
       "       [2],\n",
       "       [2],\n",
       "       [2],\n",
       "       [2],\n",
       "       [2],\n",
       "       [2],\n",
       "       [2],\n",
       "       [2],\n",
       "       [2],\n",
       "       [2],\n",
       "       [2],\n",
       "       [2],\n",
       "       [2],\n",
       "       [2],\n",
       "       [2],\n",
       "       [2],\n",
       "       [2],\n",
       "       [2],\n",
       "       [2],\n",
       "       [2],\n",
       "       [2],\n",
       "       [2],\n",
       "       [2],\n",
       "       [2],\n",
       "       [2],\n",
       "       [2],\n",
       "       [2],\n",
       "       [2],\n",
       "       [2],\n",
       "       [2],\n",
       "       [2],\n",
       "       [2],\n",
       "       [2],\n",
       "       [2],\n",
       "       [2],\n",
       "       [2],\n",
       "       [2]])"
      ]
     },
     "execution_count": 6,
     "metadata": {},
     "output_type": "execute_result"
    }
   ],
   "source": [
    "y\n"
   ]
  },
  {
   "cell_type": "markdown",
   "metadata": {},
   "source": [
    "# Define Functions"
   ]
  },
  {
   "cell_type": "code",
   "execution_count": 8,
   "metadata": {
    "collapsed": true
   },
   "outputs": [],
   "source": [
    "def sigmoid(x, derivative=False):\n",
    "    if derivative:\n",
    "        return x * (1 - x)\n",
    "    return 1 / (1 + np.exp(-x))"
   ]
  },
  {
   "cell_type": "code",
   "execution_count": 10,
   "metadata": {
    "collapsed": true
   },
   "outputs": [],
   "source": [
    "def feedforward(X):\n",
    "    z_h = np.dot(X, w01)\n",
    "    a_h = sigmoid(z_h)\n",
    "\n",
    "    z_o = np.dot(a_h, w12)\n",
    "    a_o = sigmoid(z_o)\n",
    "    return(a_o,a_h)"
   ]
  },
  {
   "cell_type": "markdown",
   "metadata": {},
   "source": [
    "# Define Parameters"
   ]
  },
  {
   "cell_type": "code",
   "execution_count": 12,
   "metadata": {
    "collapsed": true
   },
   "outputs": [],
   "source": [
    "# Learning Rate\n",
    "eta = 0.01\n",
    "\n",
    "# Number of epochs for learning\n",
    "epochs = 1000\n",
    "\n",
    "# Number of Hidden Neurons\n",
    "hidden = 10"
   ]
  },
  {
   "cell_type": "markdown",
   "metadata": {},
   "source": [
    "# Initialize the Weights"
   ]
  },
  {
   "cell_type": "code",
   "execution_count": 13,
   "metadata": {
    "collapsed": true
   },
   "outputs": [],
   "source": [
    "w01 = np.random.random((len(X[0]), hidden))\n",
    "w12 = np.random.random((hidden, 1))"
   ]
  },
  {
   "cell_type": "markdown",
   "metadata": {},
   "source": [
    "# Feed Forward and Back propogate "
   ]
  },
  {
   "cell_type": "code",
   "execution_count": 14,
   "metadata": {
    "collapsed": true
   },
   "outputs": [],
   "source": [
    "error_total=[]\n",
    "error_total0=[]\n",
    "error_total1=[]\n",
    "error_total2=[]\n",
    "\n",
    "for epoch in range(epochs):\n",
    "    a_o, a_h = feedforward(X)\n",
    "    \n",
    "    # Calculate the error\n",
    "    a_o_error = ((1 / 2) * (np.power((a_o - y), 2)))\n",
    "\n",
    "    a_o_err_y = np.concatenate((a_o_error,y), axis=1)\n",
    "    a_o_err_y0 = a_o_err_y[a_o_err_y[:,1]==0][:,0]\n",
    "    a_o_err_y1 = a_o_err_y[a_o_err_y[:,1]==1][:,0]\n",
    "    a_o_err_y2 = a_o_err_y[a_o_err_y[:,1]==2][:,0]\n",
    "    \n",
    "    error_total = np.append(error_total,sum(a_o_error))\n",
    "    error_total0 = np.append(error_total0,sum(a_o_err_y0))\n",
    "    error_total1 = np.append(error_total1,sum(a_o_err_y1))\n",
    "    error_total2 = np.append(error_total2,sum(a_o_err_y2))\n",
    "\n",
    "    #print(sum(a_o_error))\n",
    "\n",
    "    # Backpropagation\n",
    "    ## Output to Hidden Layer weights\n",
    "    delta_a_o_error = a_o - y\n",
    "    delta_z_o = sigmoid(a_o,derivative=True)\n",
    "    delta_w12 = a_h\n",
    "    delta_output_layer = np.dot(delta_w12.T,(delta_a_o_error * delta_z_o))\n",
    "\n",
    "    ## Hidden to Input Layer weights\n",
    "    delta_a_h = np.dot(delta_a_o_error * delta_z_o, w12.T)\n",
    "    delta_z_h = sigmoid(a_h,derivative=True)\n",
    "    delta_w01 = X\n",
    "    delta_hidden_layer = np.dot(delta_w01.T, delta_a_h * delta_z_h)\n",
    "\n",
    "    # Adjust weights\n",
    "    w01 = w01 - eta * delta_hidden_layer\n",
    "    w12 = w12 - eta * delta_output_layer"
   ]
  },
  {
   "cell_type": "markdown",
   "metadata": {},
   "source": [
    "# Display final total error and type contribution to error"
   ]
  },
  {
   "cell_type": "code",
   "execution_count": 15,
   "metadata": {},
   "outputs": [
    {
     "name": "stdout",
     "output_type": "stream",
     "text": [
      "Total error: [ 25.21804767]\n",
      "Type 0 error: 0.0811213650694\n",
      "Type 1 error: 0.00293128297392\n",
      "Type 2 error: 25.1339950193\n"
     ]
    }
   ],
   "source": [
    "print(\"Total error:\",sum(a_o_error))\n",
    "print(\"Type 0 error:\",sum(a_o_err_y0))\n",
    "print(\"Type 1 error:\",sum(a_o_err_y1))\n",
    "print(\"Type 2 error:\",sum(a_o_err_y2))"
   ]
  },
  {
   "cell_type": "markdown",
   "metadata": {},
   "source": [
    "# Plot the Errors for each Epoch"
   ]
  },
  {
   "cell_type": "code",
   "execution_count": 19,
   "metadata": {},
   "outputs": [
    {
     "data": {
      "text/plain": [
       "[<matplotlib.lines.Line2D at 0x1e3f5553cc0>]"
      ]
     },
     "execution_count": 19,
     "metadata": {},
     "output_type": "execute_result"
    },
    {
     "data": {
      "image/png": "[encoded data removed]",
      "text/plain": [
       "<matplotlib.figure.Figure at 0x1e3f529ba90>"
      ]
     },
     "metadata": {},
     "output_type": "display_data"
    }
   ],
   "source": [
    "plt.plot(error_total)\n",
    "plt.plot(error_total0)\n",
    "plt.plot(error_total1)\n",
    "plt.plot(error_total2)"
   ]
  },
  {
   "cell_type": "markdown",
   "metadata": {},
   "source": [
    "# Display Indepentant, dependent, predicted values"
   ]
  },
  {
   "cell_type": "code",
   "execution_count": 20,
   "metadata": {},
   "outputs": [
    {
     "name": "stdout",
     "output_type": "stream",
     "text": [
      "[[ 5.1         3.5         1.4         0.2         0.          0.05288735]\n",
      " [ 4.9         3.          1.4         0.2         0.          0.05873043]\n",
      " [ 4.7         3.2         1.3         0.2         0.          0.05608767]\n",
      " [ 4.6         3.1         1.5         0.2         0.          0.06242867]\n",
      " [ 5.          3.6         1.4         0.2         0.          0.05265318]\n",
      " [ 5.4         3.9         1.7         0.4         0.          0.05324862]\n",
      " [ 4.6         3.4         1.4         0.3         0.          0.05714606]\n",
      " [ 5.          3.4         1.5         0.2         0.          0.05529186]\n",
      " [ 4.4         2.9         1.4         0.2         0.          0.06575659]\n",
      " [ 4.9         3.1         1.5         0.1         0.          0.0582784 ]\n",
      " [ 5.4         3.7         1.5         0.2         0.          0.05155884]\n",
      " [ 4.8         3.4         1.6         0.2         0.          0.05834438]\n",
      " [ 4.8         3.          1.4         0.1         0.          0.05837758]\n",
      " [ 4.3         3.          1.1         0.1         0.          0.05691156]\n",
      " [ 5.8         4.          1.2         0.2         0.          0.04868984]\n",
      " [ 5.7         4.4         1.5         0.4         0.          0.049122  ]\n",
      " [ 5.4         3.9         1.3         0.4         0.          0.05024642]\n",
      " [ 5.1         3.5         1.4         0.3         0.          0.05346892]\n",
      " [ 5.7         3.8         1.7         0.3         0.          0.05215148]\n",
      " [ 5.1         3.8         1.5         0.3         0.          0.05249456]\n",
      " [ 5.4         3.4         1.7         0.2         0.          0.05597043]\n",
      " [ 5.1         3.7         1.5         0.4         0.          0.05376621]\n",
      " [ 4.6         3.6         1.          0.2         0.          0.05124998]\n",
      " [ 5.1         3.3         1.7         0.5         0.          0.06427971]\n",
      " [ 4.8         3.4         1.9         0.2         0.          0.06707669]\n",
      " [ 5.          3.          1.6         0.2         0.          0.06273867]\n",
      " [ 5.          3.4         1.6         0.4         0.          0.05918443]\n",
      " [ 5.2         3.5         1.5         0.2         0.          0.05348138]\n",
      " [ 5.2         3.4         1.4         0.2         0.          0.05313513]\n",
      " [ 4.7         3.2         1.6         0.2         0.          0.06237095]\n",
      " [ 4.8         3.1         1.6         0.2         0.          0.06311619]\n",
      " [ 5.4         3.4         1.5         0.4         0.          0.05472713]\n",
      " [ 5.2         4.1         1.5         0.1         0.          0.0501222 ]\n",
      " [ 5.5         4.2         1.4         0.2         0.          0.04917564]\n",
      " [ 4.9         3.1         1.5         0.1         0.          0.0582784 ]\n",
      " [ 5.          3.2         1.2         0.2         0.          0.05335938]\n",
      " [ 5.5         3.5         1.3         0.2         0.          0.05087672]\n",
      " [ 4.9         3.1         1.5         0.1         0.          0.0582784 ]\n",
      " [ 4.4         3.          1.3         0.2         0.          0.06096831]\n",
      " [ 5.1         3.4         1.5         0.2         0.          0.05474645]\n",
      " [ 5.          3.5         1.3         0.3         0.          0.0528941 ]\n",
      " [ 4.5         2.3         1.3         0.3         0.          0.08061642]\n",
      " [ 4.4         3.2         1.3         0.2         0.          0.05815678]\n",
      " [ 5.          3.5         1.6         0.6         0.          0.06048953]\n",
      " [ 5.1         3.8         1.9         0.4         0.          0.05947665]\n",
      " [ 4.8         3.          1.4         0.3         0.          0.06094261]\n",
      " [ 5.1         3.8         1.6         0.2         0.          0.05289355]\n",
      " [ 4.6         3.2         1.4         0.2         0.          0.05850673]\n",
      " [ 5.3         3.7         1.5         0.2         0.          0.05187343]\n",
      " [ 5.          3.3         1.4         0.2         0.          0.05482866]\n",
      " [ 7.          3.2         4.7         1.4         1.          0.99349396]\n",
      " [ 6.4         3.2         4.5         1.5         1.          0.99414182]\n",
      " [ 6.9         3.1         4.9         1.5         1.          0.99581128]\n",
      " [ 5.5         2.3         4.          1.3         1.          0.99564085]\n",
      " [ 6.5         2.8         4.6         1.5         1.          0.99589314]\n",
      " [ 5.7         2.8         4.5         1.3         1.          0.99611259]\n",
      " [ 6.3         3.3         4.7         1.6         1.          0.99559622]\n",
      " [ 4.9         2.4         3.3         1.          1.          0.98427487]\n",
      " [ 6.6         2.9         4.6         1.3         1.          0.99484293]\n",
      " [ 5.2         2.7         3.9         1.4         1.          0.99464474]\n",
      " [ 5.          2.          3.5         1.          1.          0.99343383]\n",
      " [ 5.9         3.          4.2         1.5         1.          0.99410416]\n",
      " [ 6.          2.2         4.          1.          1.          0.99370352]\n",
      " [ 6.1         2.9         4.7         1.4         1.          0.99628116]\n",
      " [ 5.6         2.9         3.6         1.3         1.          0.98058503]\n",
      " [ 6.7         3.1         4.4         1.4         1.          0.99174366]\n",
      " [ 5.6         3.          4.5         1.5         1.          0.99620888]\n",
      " [ 5.8         2.7         4.1         1.          1.          0.99211534]\n",
      " [ 6.2         2.2         4.5         1.5         1.          0.99679457]\n",
      " [ 5.6         2.5         3.9         1.1         1.          0.99279278]\n",
      " [ 5.9         3.2         4.8         1.8         1.          0.99675673]\n",
      " [ 6.1         2.8         4.          1.3         1.          0.99054292]\n",
      " [ 6.3         2.5         4.9         1.5         1.          0.99702803]\n",
      " [ 6.1         2.8         4.7         1.2         1.          0.99611056]\n",
      " [ 6.4         2.9         4.3         1.3         1.          0.99271775]\n",
      " [ 6.6         3.          4.4         1.4         1.          0.99305763]\n",
      " [ 6.8         2.8         4.8         1.4         1.          0.99601979]\n",
      " [ 6.7         3.          5.          1.7         1.          0.99672528]\n",
      " [ 6.          2.9         4.5         1.5         1.          0.99594935]\n",
      " [ 5.7         2.6         3.5         1.          1.          0.97131782]\n",
      " [ 5.5         2.4         3.8         1.1         1.          0.99273579]\n",
      " [ 5.5         2.4         3.7         1.          1.          0.99008827]\n",
      " [ 5.8         2.7         3.9         1.2         1.          0.99069726]\n",
      " [ 6.          2.7         5.1         1.6         1.          0.99722719]\n",
      " [ 5.4         3.          4.5         1.5         1.          0.99639793]\n",
      " [ 6.          3.4         4.5         1.6         1.          0.99473573]\n",
      " [ 6.7         3.1         4.7         1.5         1.          0.99520873]\n",
      " [ 6.3         2.3         4.4         1.3         1.          0.99608385]\n",
      " [ 5.6         3.          4.1         1.3         1.          0.99297522]\n",
      " [ 5.5         2.5         4.          1.3         1.          0.9950199 ]\n",
      " [ 5.5         2.6         4.4         1.2         1.          0.99621082]\n",
      " [ 6.1         3.          4.6         1.4         1.          0.99574369]\n",
      " [ 5.8         2.6         4.          1.2         1.          0.99312605]\n",
      " [ 5.          2.3         3.3         1.          1.          0.98529553]\n",
      " [ 5.6         2.7         4.2         1.3         1.          0.99527007]\n",
      " [ 5.7         3.          4.2         1.2         1.          0.99305559]\n",
      " [ 5.7         2.9         4.2         1.3         1.          0.9942301 ]\n",
      " [ 6.2         2.9         4.3         1.3         1.          0.99352924]\n",
      " [ 5.1         2.5         3.          1.1         1.          0.94805683]\n",
      " [ 5.7         2.8         4.1         1.3         1.          0.99388158]\n",
      " [ 6.3         3.3         6.          2.5         2.          0.99749884]\n",
      " [ 5.8         2.7         5.1         1.9         2.          0.99735049]\n",
      " [ 7.1         3.          5.9         2.1         2.          0.9974321 ]\n",
      " [ 6.3         2.9         5.6         1.8         2.          0.99739792]\n",
      " [ 6.5         3.          5.8         2.2         2.          0.99746508]\n",
      " [ 7.6         3.          6.6         2.1         2.          0.99750631]\n",
      " [ 4.9         2.5         4.5         1.7         2.          0.99720889]\n",
      " [ 7.3         2.9         6.3         1.8         2.          0.99747073]\n",
      " [ 6.7         2.5         5.8         1.8         2.          0.99746449]\n",
      " [ 7.2         3.6         6.1         2.5         2.          0.99743972]\n",
      " [ 6.5         3.2         5.1         2.          2.          0.99702667]\n",
      " [ 6.4         2.7         5.3         1.9         2.          0.99734543]\n",
      " [ 6.8         3.          5.5         2.1         2.          0.99734295]\n",
      " [ 5.7         2.5         5.          2.          2.          0.99739048]\n",
      " [ 5.8         2.8         5.1         2.4         2.          0.99742135]\n",
      " [ 6.4         3.2         5.3         2.3         2.          0.99731528]\n",
      " [ 6.5         3.          5.5         1.8         2.          0.99731289]\n",
      " [ 7.7         3.8         6.7         2.2         2.          0.99746313]\n",
      " [ 7.7         2.6         6.9         2.3         2.          0.99753736]\n",
      " [ 6.          2.2         5.          1.5         2.          0.99730644]\n",
      " [ 6.9         3.2         5.7         2.3         2.          0.99739775]\n",
      " [ 5.6         2.8         4.9         2.          2.          0.99729224]\n",
      " [ 7.7         2.8         6.7         2.          2.          0.99751567]\n",
      " [ 6.3         2.7         4.9         1.8         2.          0.99708231]\n",
      " [ 6.7         3.3         5.7         2.1         2.          0.99736333]\n",
      " [ 7.2         3.2         6.          1.8         2.          0.99736523]\n",
      " [ 6.2         2.8         4.8         1.8         2.          0.9969488 ]\n",
      " [ 6.1         3.          4.9         1.8         2.          0.99696621]\n",
      " [ 6.4         2.8         5.6         2.1         2.          0.99744688]\n",
      " [ 7.2         3.          5.8         1.6         2.          0.99727972]\n",
      " [ 7.4         2.8         6.1         1.9         2.          0.99745172]\n",
      " [ 7.9         3.8         6.4         2.          2.          0.99733012]\n",
      " [ 6.4         2.8         5.6         2.2         2.          0.99745782]\n",
      " [ 6.3         2.8         5.1         1.5         2.          0.99704625]\n",
      " [ 6.1         2.6         5.6         1.4         2.          0.99740145]\n",
      " [ 7.7         3.          6.1         2.3         2.          0.99745352]\n",
      " [ 6.3         3.4         5.6         2.4         2.          0.99741126]\n",
      " [ 6.4         3.1         5.5         1.8         2.          0.99730104]\n",
      " [ 6.          3.          4.8         1.8         2.          0.99688424]\n",
      " [ 6.9         3.1         5.4         2.1         2.          0.99724746]\n",
      " [ 6.7         3.1         5.6         2.4         2.          0.99742152]\n",
      " [ 6.9         3.1         5.1         2.3         2.          0.99711323]\n",
      " [ 5.8         2.7         5.1         1.9         2.          0.99735049]\n",
      " [ 6.8         3.2         5.9         2.3         2.          0.997453  ]\n",
      " [ 6.7         3.3         5.7         2.5         2.          0.99743022]\n",
      " [ 6.7         3.          5.2         2.3         2.          0.99727283]\n",
      " [ 6.3         2.5         5.          1.9         2.          0.99727991]\n",
      " [ 6.5         3.          5.2         2.          2.          0.99721197]\n",
      " [ 6.2         3.4         5.4         2.3         2.          0.99733699]\n",
      " [ 5.9         3.          5.1         1.8         2.          0.99720876]]\n"
     ]
    }
   ],
   "source": [
    "a_o, a_h = feedforward(X)\n",
    "print(np.concatenate((X,y,a_o),axis=1))"
   ]
  },
  {
   "cell_type": "code",
   "execution_count": null,
   "metadata": {
    "collapsed": true
   },
   "outputs": [],
   "source": []
  }
 ],
 "metadata": {
  "kernelspec": {
   "display_name": "Python 3",
   "language": "python",
   "name": "python3"
  },
  "language_info": {
   "codemirror_mode": {
    "name": "ipython",
    "version": 3
   },
   "file_extension": ".py",
   "mimetype": "text/x-python",
   "name": "python",
   "nbconvert_exporter": "python",
   "pygments_lexer": "ipython3",
   "version": "3.6.1"
  }
 },
 "nbformat": 4,
 "nbformat_minor": 2
}
